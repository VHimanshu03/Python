{
 "cells": [
  {
   "cell_type": "code",
   "execution_count": 1,
   "metadata": {},
   "outputs": [],
   "source": [
    "#Tuples are IMMUTABLE : We can not change tuple\n",
    "#Strings are IMMUTABLE :\n",
    "#Lists are MUTABLE"
   ]
  },
  {
   "cell_type": "code",
   "execution_count": 2,
   "metadata": {},
   "outputs": [],
   "source": [
    "#using Sorted()"
   ]
  },
  {
   "cell_type": "code",
   "execution_count": 4,
   "metadata": {},
   "outputs": [
    {
     "name": "stdout",
     "output_type": "stream",
     "text": [
      "A 1\n",
      "B 2\n",
      "C 3\n",
      "D 4\n"
     ]
    }
   ],
   "source": [
    "#Sorted by Key\n",
    "d = {'A':1, 'D':4, 'B':2, 'C':3}\n",
    "t = sorted(d.items())\n",
    "for k,v in sorted(d.items()) :\n",
    "    print(k,v)"
   ]
  },
  {
   "cell_type": "code",
   "execution_count": 7,
   "metadata": {},
   "outputs": [
    {
     "name": "stdout",
     "output_type": "stream",
     "text": [
      "[(1, 'A'), (2, 'B'), (3, 'C'), (4, 'D')]\n"
     ]
    }
   ],
   "source": [
    "#Sort by value instead key\n",
    "d = {'A':1, 'B':2, 'C':3, 'D':4}\n",
    "tmp = list()\n",
    "for k,v in d.items():\n",
    "    tmp.append((v,k))\n",
    "print(tmp)"
   ]
  },
  {
   "cell_type": "code",
   "execution_count": 8,
   "metadata": {},
   "outputs": [
    {
     "name": "stdout",
     "output_type": "stream",
     "text": [
      "[(4, 'D'), (3, 'C'), (2, 'B'), (1, 'A')]\n"
     ]
    }
   ],
   "source": [
    "tmp = sorted(tmp, reverse = True)\n",
    "print(tmp)"
   ]
  },
  {
   "cell_type": "code",
   "execution_count": 13,
   "metadata": {},
   "outputs": [
    {
     "name": "stdout",
     "output_type": "stream",
     "text": [
      "I 3\n",
      "you 1\n",
      "way 1\n",
      "the 1\n",
      "loving 1\n",
      "love 1\n",
      "like 1\n",
      "it. 1\n",
      "it, 1\n",
      "is 1\n"
     ]
    }
   ],
   "source": [
    "fopen = open('Test.txt')\n",
    "counts = dict()\n",
    "for line in fopen:\n",
    "    words = line.split()\n",
    "    for word in words:\n",
    "        counts[word] = counts.get(word,0) + 1\n",
    "\n",
    "lst = list()\n",
    "for k,v in counts.items():\n",
    "    newup = (v,k)\n",
    "    lst.append(newup)\n",
    "\n",
    "lst = sorted(lst, reverse = True)\n",
    "for v,k in lst[:10]:\n",
    "    print(k,v)"
   ]
  },
  {
   "cell_type": "code",
   "execution_count": 17,
   "metadata": {},
   "outputs": [
    {
     "name": "stdout",
     "output_type": "stream",
     "text": [
      "[(1, 'From'), (1, 'From:'), (1, 'Python'), (1, 'am'), (1, 'are'), (1, 'awesome.'), (1, 'ghgh'), (1, 'himanshu@gmail.com'), (1, 'is'), (1, 'it,'), (1, 'it.'), (1, 'like'), (1, 'love'), (1, 'loving'), (1, 'the'), (1, 'way'), (1, 'you'), (3, 'I')]\n"
     ]
    }
   ],
   "source": [
    "#lst = list()\n",
    "#for k,v in counts.items():\n",
    "#    newup = (v,k)\n",
    "#    lst.append(newup)\n",
    "\n",
    "#lst = sorted(lst, reverse = True)\n",
    "#for v,k in lst[:10]:\n",
    "#    print(k,v) \n",
    "\n",
    "#Even Sorter version\n",
    "fopen = open('Test.txt')\n",
    "counts = dict()\n",
    "for line in fopen:\n",
    "    words = line.split()\n",
    "    for word in words:\n",
    "        counts[word] = counts.get(word,0) + 1\n",
    "\n",
    "print(sorted ([(v, k) for k,v in counts.items()]))"
   ]
  },
  {
   "cell_type": "code",
   "execution_count": 19,
   "metadata": {},
   "outputs": [
    {
     "name": "stdout",
     "output_type": "stream",
     "text": [
      "dict_items([('A', 1), ('B', 2), ('C', 3), ('D', 4)])\n"
     ]
    }
   ],
   "source": [
    "d = {'A':1, 'B':2, 'C':3, 'D':4}\n",
    "y = d.items()\n",
    "print(y)"
   ]
  },
  {
   "cell_type": "code",
   "execution_count": 22,
   "metadata": {},
   "outputs": [
    {
     "name": "stdout",
     "output_type": "stream",
     "text": [
      "08 1\n"
     ]
    }
   ],
   "source": [
    "handle = open(\"Test.txt\")\n",
    "d=dict()\n",
    "for line in handle:\n",
    "    if not line.startswith(\"From \"): \n",
    "        continue\n",
    "    else:    \n",
    "        line=line.split()\n",
    "        line=line[5]\n",
    "        line=line[0:2]\n",
    "        d[line]=d.get(line,0)+1\n",
    "\n",
    "lst=list()        \n",
    "for value,count in d.items():\n",
    "    lst.append((value,count))\n",
    "\n",
    "lst.sort()\n",
    "for value,count in lst:\n",
    "    print (value,count)"
   ]
  },
  {
   "cell_type": "code",
   "execution_count": null,
   "metadata": {},
   "outputs": [],
   "source": []
  }
 ],
 "metadata": {
  "kernelspec": {
   "display_name": "Python 3",
   "language": "python",
   "name": "python3"
  },
  "language_info": {
   "codemirror_mode": {
    "name": "ipython",
    "version": 3
   },
   "file_extension": ".py",
   "mimetype": "text/x-python",
   "name": "python",
   "nbconvert_exporter": "python",
   "pygments_lexer": "ipython3",
   "version": "3.8.3"
  }
 },
 "nbformat": 4,
 "nbformat_minor": 4
}
