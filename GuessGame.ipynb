{
 "cells": [
  {
   "cell_type": "code",
   "execution_count": null,
   "metadata": {},
   "outputs": [],
   "source": [
    "import random\n",
    "rand_number = random.randint(1,10)\n",
    "\n",
    "player_name = input(\"Hello, Please enter your name to start!!!\")\n",
    "print('Hi ' + player_name+ ', ' 'I am guessing number between 1 to 10')\n",
    "\n",
    "number_of_guess = 0\n",
    "\n",
    "while number_of_guess < 5:\n",
    "    guess = int(input())\n",
    "    number_of_guess +=1\n",
    "    if(guess < rand_number):\n",
    "        print(\"Guess is too low\")\n",
    "    elif(guess > rand_number):\n",
    "        print(\"Guess is too high\")\n",
    "    elif(guess == rand_number):\n",
    "        print('You guessed the number in ' + str(number_of_guess) + ' tries!')\n",
    "        break"
   ]
  }
 ],
 "metadata": {
  "kernelspec": {
   "display_name": "Python 3",
   "language": "python",
   "name": "python3"
  },
  "language_info": {
   "codemirror_mode": {
    "name": "ipython",
    "version": 3
   },
   "file_extension": ".py",
   "mimetype": "text/x-python",
   "name": "python",
   "nbconvert_exporter": "python",
   "pygments_lexer": "ipython3",
   "version": "3.8.3"
  }
 },
 "nbformat": 4,
 "nbformat_minor": 4
}
