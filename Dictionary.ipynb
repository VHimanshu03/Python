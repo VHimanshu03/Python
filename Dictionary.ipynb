{
 "cells": [
  {
   "cell_type": "code",
   "execution_count": 1,
   "metadata": {},
   "outputs": [],
   "source": [
    "# Dictionary is MUTABLE.It can be changed"
   ]
  },
  {
   "cell_type": "code",
   "execution_count": 3,
   "metadata": {},
   "outputs": [
    {
     "name": "stdout",
     "output_type": "stream",
     "text": [
      "{'A': 1, 'B': 1, 'C': 2, 'D': 1}\n"
     ]
    }
   ],
   "source": [
    "counts = dict()\n",
    "names = ['A', 'B', 'C', 'D', 'C']\n",
    "for name in names:\n",
    "    if name not in counts:\n",
    "        counts[name] = 1\n",
    "    else:\n",
    "        counts[name] = counts[name] + 1\n",
    "print(counts)"
   ]
  },
  {
   "cell_type": "code",
   "execution_count": 7,
   "metadata": {},
   "outputs": [],
   "source": [
    "# Simplified counting with get()"
   ]
  },
  {
   "cell_type": "code",
   "execution_count": 6,
   "metadata": {},
   "outputs": [
    {
     "name": "stdout",
     "output_type": "stream",
     "text": [
      "{'A': 1, 'B': 1, 'C': 2, 'D': 2, 'd': 1}\n"
     ]
    }
   ],
   "source": [
    "counts = dict()\n",
    "names = ['A', 'B', 'C', 'D', 'C', 'D', 'd']\n",
    "for name in names:\n",
    "    if name in names:\n",
    "       counts[name] = counts.get(name, 0) + 1\n",
    "print(counts)"
   ]
  },
  {
   "cell_type": "code",
   "execution_count": 1,
   "metadata": {},
   "outputs": [],
   "source": [
    "#Counting Pattern of a line\n",
    "#Step 1: Split the line into words\n",
    "#Step 2: Loop throgh the words and use dictionary to track the count of each word independently"
   ]
  },
  {
   "cell_type": "code",
   "execution_count": 6,
   "metadata": {},
   "outputs": [
    {
     "name": "stdout",
     "output_type": "stream",
     "text": [
      "Enter the line of text:\n",
      "i am here i am with you\n",
      "['i', 'am', 'here', 'i', 'am', 'with', 'you']\n",
      "Counts : {'i': 2, 'am': 2, 'here': 1, 'with': 1, 'you': 1}\n"
     ]
    }
   ],
   "source": [
    "print(\"Enter the line of text:\")\n",
    "line = input('')\n",
    "words = line.split()\n",
    "counts = dict()\n",
    "print(words)\n",
    "for word in words:\n",
    "        counts[word] = counts.get(word, 0) + 1\n",
    "print('Counts :', counts)"
   ]
  },
  {
   "cell_type": "code",
   "execution_count": 7,
   "metadata": {},
   "outputs": [],
   "source": [
    "#count occurances of ech word in file"
   ]
  },
  {
   "cell_type": "code",
   "execution_count": null,
   "metadata": {},
   "outputs": [],
   "source": [
    "fname = input(\"Enter file name\")\n",
    "\n",
    "#opening fle\n",
    "file = open(fname)\n",
    "dic = dict()\n",
    "\n",
    "#loop through each line of file\n",
    "for line in file:\n",
    "    line.rstrip()\n",
    "    #split the line into words\n",
    "    words = line.split()\n",
    "    \n",
    "    #Itereate each word\n",
    "    for word in words:\n",
    "        dic[word] = dic.get(word, 0) + 1\n",
    "        \n",
    "#print the content of dictionary\n",
    "for key in dic:\n",
    "    print(key, dic[key])"
   ]
  },
  {
   "cell_type": "code",
   "execution_count": null,
   "metadata": {},
   "outputs": [],
   "source": [
    "#Retreiving List of keys and value"
   ]
  },
  {
   "cell_type": "code",
   "execution_count": 6,
   "metadata": {},
   "outputs": [
    {
     "name": "stdout",
     "output_type": "stream",
     "text": [
      "['A', 'B', 'C']\n",
      "dict_keys(['A', 'B', 'C'])\n",
      "dict_values([1, 2, 3])\n",
      "dict_items([('A', 1), ('B', 2), ('C', 3)])\n"
     ]
    }
   ],
   "source": [
    "dic = {'A' : 1, 'B' : 2, 'C' : 3}\n",
    "print(list(dic))\n",
    "print(dic.keys())\n",
    "print(dic.values())\n",
    "print(dic.items())"
   ]
  },
  {
   "cell_type": "code",
   "execution_count": 7,
   "metadata": {},
   "outputs": [
    {
     "name": "stdout",
     "output_type": "stream",
     "text": [
      "A 1\n",
      "B 2\n",
      "C 3\n"
     ]
    }
   ],
   "source": [
    "#Iterate through dic\n",
    "for k,v in dic.items():\n",
    "    print(k,v)"
   ]
  },
  {
   "cell_type": "code",
   "execution_count": 3,
   "metadata": {},
   "outputs": [
    {
     "name": "stdout",
     "output_type": "stream",
     "text": [
      "None -1\n"
     ]
    }
   ],
   "source": [
    "dic = dict()\n",
    "print(dic.get('candy'), -1)"
   ]
  },
  {
   "cell_type": "code",
   "execution_count": null,
   "metadata": {},
   "outputs": [],
   "source": []
  }
 ],
 "metadata": {
  "kernelspec": {
   "display_name": "Python 3",
   "language": "python",
   "name": "python3"
  },
  "language_info": {
   "codemirror_mode": {
    "name": "ipython",
    "version": 3
   },
   "file_extension": ".py",
   "mimetype": "text/x-python",
   "name": "python",
   "nbconvert_exporter": "python",
   "pygments_lexer": "ipython3",
   "version": "3.8.3"
  }
 },
 "nbformat": 4,
 "nbformat_minor": 4
}
