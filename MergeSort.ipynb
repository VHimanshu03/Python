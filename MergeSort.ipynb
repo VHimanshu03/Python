{
 "cells": [
  {
   "cell_type": "code",
   "execution_count": null,
   "metadata": {},
   "outputs": [],
   "source": [
    "def mergeSort(list1):\n",
    "    if(len(list1) > 1):\n",
    "        mid = len(list1)//2\n",
    "        left_list = list1[:mid]\n",
    "        right_list = list1[mid:]\n",
    "        mergeSort(left_list)\n",
    "        mergeSort(right_list)\n",
    "        i = 0\n",
    "        j = 0\n",
    "        k = 0\n",
    "        while(i < len(left_list) and j < len(right_list)):\n",
    "            if(left_list[i] < right_list[j]):\n",
    "                list1[k] = left_list[i]\n",
    "                i = i+1\n",
    "            else:\n",
    "                list1[k] = right_list[j]\n",
    "                j = j+1\n",
    "            k = k+1\n",
    "        while(i < len(left_list)):\n",
    "            list1[k] = left_list[i]\n",
    "            i = i+1\n",
    "            k = k+1\n",
    "        while(j < len(right_list)):\n",
    "            list1[k] = right_list[j]\n",
    "            j = j+1\n",
    "            k = k+1\n",
    "    \n",
    "num = int(input(\"Enter number of element in list: \"))\n",
    "list1 = [int(input()) for x in range(num)]\n",
    "mergeSort(list1)\n",
    "print(\"sorted list :\", list1)\n"
   ]
  },
  {
   "cell_type": "code",
   "execution_count": null,
   "metadata": {},
   "outputs": [],
   "source": []
  }
 ],
 "metadata": {
  "kernelspec": {
   "display_name": "Python 3",
   "language": "python",
   "name": "python3"
  },
  "language_info": {
   "codemirror_mode": {
    "name": "ipython",
    "version": 3
   },
   "file_extension": ".py",
   "mimetype": "text/x-python",
   "name": "python",
   "nbconvert_exporter": "python",
   "pygments_lexer": "ipython3",
   "version": "3.8.3"
  }
 },
 "nbformat": 4,
 "nbformat_minor": 4
}
